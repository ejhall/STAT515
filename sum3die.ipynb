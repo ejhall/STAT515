{
 "cells": [
  {
   "cell_type": "code",
   "execution_count": 1,
   "metadata": {
    "collapsed": false
   },
   "outputs": [],
   "source": [
    "%matplotlib inline\n",
    "import numpy as np\n",
    "import matplotlib.pyplot as plt"
   ]
  },
  {
   "cell_type": "code",
   "execution_count": 15,
   "metadata": {
    "collapsed": false
   },
   "outputs": [],
   "source": [
    "x = np.zeros((6,6,6)) # x is a 6 by 6 by 6 dimensional vector of zeros"
   ]
  },
  {
   "cell_type": "code",
   "execution_count": 20,
   "metadata": {
    "collapsed": false
   },
   "outputs": [],
   "source": [
    "for i in np.arange(6):\n",
    "    for j in np.arange(6):\n",
    "        for k in np.arange(6):\n",
    "            x[i,j,k] = i+j+k+3 # here we add 3 because python indexes arrays starting with 0"
   ]
  },
  {
   "cell_type": "code",
   "execution_count": 21,
   "metadata": {
    "collapsed": false
   },
   "outputs": [
    {
     "data": {
      "text/plain": [
       "array([[[  3.,   4.,   5.,   6.,   7.,   8.],\n",
       "        [  4.,   5.,   6.,   7.,   8.,   9.],\n",
       "        [  5.,   6.,   7.,   8.,   9.,  10.],\n",
       "        [  6.,   7.,   8.,   9.,  10.,  11.],\n",
       "        [  7.,   8.,   9.,  10.,  11.,  12.],\n",
       "        [  8.,   9.,  10.,  11.,  12.,  13.]],\n",
       "\n",
       "       [[  4.,   5.,   6.,   7.,   8.,   9.],\n",
       "        [  5.,   6.,   7.,   8.,   9.,  10.],\n",
       "        [  6.,   7.,   8.,   9.,  10.,  11.],\n",
       "        [  7.,   8.,   9.,  10.,  11.,  12.],\n",
       "        [  8.,   9.,  10.,  11.,  12.,  13.],\n",
       "        [  9.,  10.,  11.,  12.,  13.,  14.]],\n",
       "\n",
       "       [[  5.,   6.,   7.,   8.,   9.,  10.],\n",
       "        [  6.,   7.,   8.,   9.,  10.,  11.],\n",
       "        [  7.,   8.,   9.,  10.,  11.,  12.],\n",
       "        [  8.,   9.,  10.,  11.,  12.,  13.],\n",
       "        [  9.,  10.,  11.,  12.,  13.,  14.],\n",
       "        [ 10.,  11.,  12.,  13.,  14.,  15.]],\n",
       "\n",
       "       [[  6.,   7.,   8.,   9.,  10.,  11.],\n",
       "        [  7.,   8.,   9.,  10.,  11.,  12.],\n",
       "        [  8.,   9.,  10.,  11.,  12.,  13.],\n",
       "        [  9.,  10.,  11.,  12.,  13.,  14.],\n",
       "        [ 10.,  11.,  12.,  13.,  14.,  15.],\n",
       "        [ 11.,  12.,  13.,  14.,  15.,  16.]],\n",
       "\n",
       "       [[  7.,   8.,   9.,  10.,  11.,  12.],\n",
       "        [  8.,   9.,  10.,  11.,  12.,  13.],\n",
       "        [  9.,  10.,  11.,  12.,  13.,  14.],\n",
       "        [ 10.,  11.,  12.,  13.,  14.,  15.],\n",
       "        [ 11.,  12.,  13.,  14.,  15.,  16.],\n",
       "        [ 12.,  13.,  14.,  15.,  16.,  17.]],\n",
       "\n",
       "       [[  8.,   9.,  10.,  11.,  12.,  13.],\n",
       "        [  9.,  10.,  11.,  12.,  13.,  14.],\n",
       "        [ 10.,  11.,  12.,  13.,  14.,  15.],\n",
       "        [ 11.,  12.,  13.,  14.,  15.,  16.],\n",
       "        [ 12.,  13.,  14.,  15.,  16.,  17.],\n",
       "        [ 13.,  14.,  15.,  16.,  17.,  18.]]])"
      ]
     },
     "execution_count": 21,
     "metadata": {},
     "output_type": "execute_result"
    }
   ],
   "source": [
    "x # each element of x represents one possible outcome where we sum the number of spots on three fair die"
   ]
  },
  {
   "cell_type": "code",
   "execution_count": 28,
   "metadata": {
    "collapsed": false
   },
   "outputs": [],
   "source": [
    "x = x.flatten() # here we turn x into an 1-d array of all possible outcomes"
   ]
  },
  {
   "cell_type": "code",
   "execution_count": 46,
   "metadata": {
    "collapsed": false
   },
   "outputs": [
    {
     "name": "stdout",
     "output_type": "stream",
     "text": [
      "[ 3  4  5  6  7  8  9 10 11 12 13 14 15 16 17 18]\n",
      "[ 1  3  6 10 15 21 25 27 27 25 21 15 10  6  3  1]\n"
     ]
    }
   ],
   "source": [
    "# bins should coincide with the range of the r.v. X: {1+1+1=3, 4, 5, ..., 6+6+6=18}\n",
    "c, b = np.histogram(x, bins=range(3,20))\n",
    "print b[0:-1] # range(X) (left hand endpoint of bins)\n",
    "print c # number of outcomes corresponding to each element in the range(X)"
   ]
  },
  {
   "cell_type": "code",
   "execution_count": 38,
   "metadata": {
    "collapsed": false
   },
   "outputs": [
    {
     "data": {
      "text/plain": [
       "(array([  1.,   3.,   6.,  10.,  15.,  21.,  25.,  27.,  27.,  25.,  21.,\n",
       "         15.,  10.,   6.,   3.,   1.]),\n",
       " array([ 3,  4,  5,  6,  7,  8,  9, 10, 11, 12, 13, 14, 15, 16, 17, 18, 19]),\n",
       " <a list of 16 Patch objects>)"
      ]
     },
     "execution_count": 38,
     "metadata": {},
     "output_type": "execute_result"
    },
    {
     "data": {
      "image/png": "[encoded data removed]",
      "text/plain": [
       "<matplotlib.figure.Figure at 0x1088bc310>"
      ]
     },
     "metadata": {},
     "output_type": "display_data"
    }
   ],
   "source": [
    "plt.hist(x, bins=range(3,20)) # the same information in a graph"
   ]
  },
  {
   "cell_type": "code",
   "execution_count": 42,
   "metadata": {
    "collapsed": false
   },
   "outputs": [
    {
     "data": {
      "text/plain": [
       "216"
      ]
     },
     "execution_count": 42,
     "metadata": {},
     "output_type": "execute_result"
    }
   ],
   "source": [
    "sum(c)"
   ]
  }
 ],
 "metadata": {
  "kernelspec": {
   "display_name": "Python 2",
   "language": "python",
   "name": "python2"
  },
  "language_info": {
   "codemirror_mode": {
    "name": "ipython",
    "version": 2
   },
   "file_extension": ".py",
   "mimetype": "text/x-python",
   "name": "python",
   "nbconvert_exporter": "python",
   "pygments_lexer": "ipython2",
   "version": "2.7.10"
  }
 },
 "nbformat": 4,
 "nbformat_minor": 0
}
