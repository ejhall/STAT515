{
 "cells": [
  {
   "cell_type": "code",
   "execution_count": 38,
   "metadata": {
    "collapsed": false
   },
   "outputs": [],
   "source": [
    "from __future__ import division\n",
    "from sympy import *"
   ]
  },
  {
   "cell_type": "markdown",
   "metadata": {},
   "source": [
    "Let $A$, $B$, and $C$ be independent random variables, uniformly distributed over $[0,6 ]$, $[0,4]$, and $[0,7]$ respectively. What is the probability that both roots of the equation $Ax^2 + Bx + C = 0$ are real?"
   ]
  },
  {
   "cell_type": "markdown",
   "metadata": {},
   "source": [
    "Since $A \\amalg B \\amalg C$, the joint density is given by $f_{A,B,C}(a,b,c) = f_A(a) f_B(b) f_C(c) = \\frac{1}{(6)(4)(7)}$.\n",
    "\n",
    "The roots of the equation are real if and only if $B^2 - 4AC \\geq 0$. Then, \n",
    "$$\n",
    "\\mathbf{P}(\\text{two real roots}) = \\int \\!\\! \\int \\!\\! \\int_{b^2 - 4ac \\geq 0} f_{ABC} (a,b,c) \\,\\mathrm{d}a \\mathrm{d}b \\mathrm{d}c = \\frac{1}{(6)(4)(7)} \\int_{0}^{7} \\!\\!\\int_{0}^{4} \\!\\!\\int_{0}^{\\min (6, \\frac{b^2}{4c})} \\mathrm{d}a \\mathrm{d}b \\mathrm{d}c = \\frac{1}{(6)(4)(7)} \\int_{0}^{7}\\!\\! \\int_{0}^{4} \\min(6, \\frac{b^2}{4c})\\,\\mathrm{d}b \\mathrm{d}c.\n",
    "$$\n",
    "\n",
    "Now a little care is in order to separate out the regions for the integrand $\\min(6, \\frac{b^2}{4c})$, that is, when is $\\frac{b^2}{4c} \\leq 6$? For $c \\in (\\frac{b^2}{4(6)} = 2/3, 7)$ and $b \\in (0,4)$, then $\\min(6,\\frac{b^2}{4c}) = \\frac{b^2}{4c}$. For $c \\in (0, 2/3)$ then there are two cases: $b \\in (0, \\sqrt{(6)(4)c})$ with $\\min(6,\\frac{b^2}{4c}) = b^2/4c$ and $b \\in (\\sqrt{(6)(4)c}, 4)$ with $\\min(6,\\frac{b^2}{4c}) = 6$. \n",
    "\n",
    "That integral is a mess so I'd like to check the computation that I did by hand. Let's do that now."
   ]
  },
  {
   "cell_type": "code",
   "execution_count": 44,
   "metadata": {
    "collapsed": false
   },
   "outputs": [
    {
     "data": {
      "text/plain": [
       "-0.0172803509191053*sqrt(6) + 2*log(7)/63 + 0.108110003432005"
      ]
     },
     "execution_count": 44,
     "metadata": {},
     "output_type": "execute_result"
    }
   ],
   "source": [
    "a, b, c = symbols('a b c')\n",
    "prob = (integrate(integrate(b**2/(4*c), (b, 0, 4)), (c, 2/3, 7)) + integrate((integrate(b**2/(4*c), (b, 0, sqrt(6*4*c))) + integrate(6, (b, sqrt(6*4*c), 4))), (c, 0 , 2/3)))/6/4/7\n",
    "prob"
   ]
  },
  {
   "cell_type": "markdown",
   "metadata": {},
   "source": [
    "Evaluating this expression (obs! $\\log(\\cdot)$ above is $\\log_e(\\cdot) = \\ln(\\cdot)$), we see "
   ]
  },
  {
   "cell_type": "code",
   "execution_count": 45,
   "metadata": {
    "collapsed": false
   },
   "outputs": [
    {
     "data": {
      "text/plain": [
       "0.127556886470798"
      ]
     },
     "execution_count": 45,
     "metadata": {},
     "output_type": "execute_result"
    }
   ],
   "source": [
    "prob.evalf()"
   ]
  },
  {
   "cell_type": "markdown",
   "metadata": {},
   "source": [
    "I was really careful when I worked out the integral by hand and found the following expression for the integral in terms of the right hand hand points for the support of each of $A$, $B$ and $C$ (let's call them $a$, $b$ and $c$):"
   ]
  },
  {
   "cell_type": "code",
   "execution_count": 46,
   "metadata": {
    "collapsed": false
   },
   "outputs": [],
   "source": [
    "expr = (b**2/(12*a*c)) * (5/3 + ln(4*a*c/b**2))"
   ]
  },
  {
   "cell_type": "markdown",
   "metadata": {},
   "source": [
    "Now let's substitute the limits given above for $a$, $b$, and $c$ to double check we get the value of the integral above"
   ]
  },
  {
   "cell_type": "code",
   "execution_count": 51,
   "metadata": {
    "collapsed": false
   },
   "outputs": [
    {
     "data": {
      "text/plain": [
       "0.127556886470798"
      ]
     },
     "execution_count": 51,
     "metadata": {},
     "output_type": "execute_result"
    }
   ],
   "source": [
    "expr.subs([(a,6),(b,4),(c,7)]).evalf()"
   ]
  },
  {
   "cell_type": "markdown",
   "metadata": {},
   "source": [
    "This might not be the last time you see an integral like this, although I won't expect you to tackle it without some additional tools... :)"
   ]
  }
 ],
 "metadata": {
  "kernelspec": {
   "display_name": "Python 2",
   "language": "python",
   "name": "python2"
  },
  "language_info": {
   "codemirror_mode": {
    "name": "ipython",
    "version": 2
   },
   "file_extension": ".py",
   "mimetype": "text/x-python",
   "name": "python",
   "nbconvert_exporter": "python",
   "pygments_lexer": "ipython2",
   "version": "2.7.10"
  }
 },
 "nbformat": 4,
 "nbformat_minor": 0
}
