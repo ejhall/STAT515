{
 "cells": [
  {
   "cell_type": "markdown",
   "metadata": {},
   "source": [
    "# Welcome to STAT 515\n",
    "\n",
    "In STAT 515, we will be covering the fundamentals of probability with a view towards statistical inference. At its root, probability is a collection of tools for helping us to reason qualitatively about uncertain events. Learning to answer questions in the face of uncertainty is a key part of many scientific disciplines.\n",
    "\n",
    "What are the chances of two people in a group having the same birthday? What are the chances that someone in this very room has the same birthday as you? Are those probabilities the same?"
   ]
  },
  {
   "cell_type": "markdown",
   "metadata": {},
   "source": [
    "## Questions: How many people do we need to have in order to have a better than 50% chance of a birthday (dd-mm) match within the group?\n",
    "\n",
    "Let's not worry too much about about how to compute $P(\\mathrm{match})$, the probability of a match. That will come later in the course! Right now, let's just try to think about what a *sensible* answer might look like. "
   ]
  },
  {
   "cell_type": "markdown",
   "metadata": {},
   "source": [
    "If there are 365 days in a year, then will the total number of people need to be close to 365?"
   ]
  },
  {
   "cell_type": "markdown",
   "metadata": {},
   "source": [
    "Perhaps 365 people is far too many... we only want a better than 50% chance of having a match.  Would 182 people--about half of 365--be sufficient to have a birthday match?"
   ]
  },
  {
   "cell_type": "markdown",
   "metadata": {},
   "source": [
    "How about 50 people---would that be sufficient? What is the *smallest number of people* that would be sufficient?"
   ]
  },
  {
   "cell_type": "markdown",
   "metadata": {},
   "source": [
    "If you've never thought of this problem before, the answer might surprise you. "
   ]
  },
  {
   "cell_type": "markdown",
   "metadata": {},
   "source": [
    "**[You may ignore the code below and focus on the output (unless it is of interest to you :). It turns out to be much easier to compute the probability of having *NO* matches in a group of people.]**"
   ]
  },
  {
   "cell_type": "code",
   "execution_count": 1,
   "metadata": {
    "collapsed": false
   },
   "outputs": [],
   "source": [
    "%matplotlib inline\n",
    "import numpy as np\n",
    "import matplotlib.pyplot as plt\n",
    "\n",
    "def pmatches(N):\n",
    "    return 1-np.prod(np.arange(365,365-N,-1,dtype=float))/365**N\n",
    "\n",
    "numpeople = range(80)\n",
    "prob = map(pmatches, numpeople)\n",
    "numStudentsStat515 = 41"
   ]
  },
  {
   "cell_type": "code",
   "execution_count": 2,
   "metadata": {
    "collapsed": false
   },
   "outputs": [
    {
     "data": {
      "text/plain": [
       "0.5072972343239854"
      ]
     },
     "execution_count": 2,
     "metadata": {},
     "output_type": "execute_result"
    }
   ],
   "source": [
    "pmatches(23)"
   ]
  },
  {
   "cell_type": "markdown",
   "metadata": {},
   "source": [
    "That is, a group of 23 people will have a greater than 50% chance of a birthday match."
   ]
  },
  {
   "cell_type": "markdown",
   "metadata": {},
   "source": [
    "At present there are 40 students (plus an Eric) in this section of STAT 515. "
   ]
  },
  {
   "cell_type": "code",
   "execution_count": 3,
   "metadata": {
    "collapsed": false
   },
   "outputs": [
    {
     "data": {
      "text/plain": [
       "0.9031516114817354"
      ]
     },
     "execution_count": 3,
     "metadata": {},
     "output_type": "execute_result"
    }
   ],
   "source": [
    "pmatches(numStudentsStat515)"
   ]
  },
  {
   "cell_type": "markdown",
   "metadata": {},
   "source": [
    "That line above gives the probability of having two matches in this section of STAT 515!!"
   ]
  },
  {
   "cell_type": "markdown",
   "metadata": {},
   "source": [
    "But, probabilities are telling us something about the *long-term* likelihood of an event occuring."
   ]
  },
  {
   "cell_type": "markdown",
   "metadata": {},
   "source": [
    "Here is a plot of the probability of two people having a match versus the group size."
   ]
  },
  {
   "cell_type": "code",
   "execution_count": 4,
   "metadata": {
    "collapsed": false
   },
   "outputs": [
    {
     "data": {
      "text/plain": [
       "<matplotlib.lines.Line2D at 0x105dc86d0>"
      ]
     },
     "execution_count": 4,
     "metadata": {},
     "output_type": "execute_result"
    },
    {
     "data": {
      "image/png": "[encoded data removed]",
      "text/plain": [
       "<matplotlib.figure.Figure at 0x1059ac7d0>"
      ]
     },
     "metadata": {},
     "output_type": "display_data"
    }
   ],
   "source": [
    "plt.step(numpeople, prob)\n",
    "plt.xlabel(\"group size (in people)\")\n",
    "plt.ylabel(\"probability of two matches\")\n",
    "plt.axvline(x=numStudentsStat515,color='k',ls='dashed')"
   ]
  },
  {
   "cell_type": "markdown",
   "metadata": {},
   "source": [
    "Hopefully this simple example has illustrateed that we need to learn some new mathematical tools if we want to reason quantitatively about uncertain events. Hopefully it has also illustrated that our intuitions can fool us. "
   ]
  },
  {
   "cell_type": "code",
   "execution_count": null,
   "metadata": {
    "collapsed": true
   },
   "outputs": [],
   "source": []
  }
 ],
 "metadata": {
  "kernelspec": {
   "display_name": "Python 2",
   "language": "python",
   "name": "python2"
  },
  "language_info": {
   "codemirror_mode": {
    "name": "ipython",
    "version": 2
   },
   "file_extension": ".py",
   "mimetype": "text/x-python",
   "name": "python",
   "nbconvert_exporter": "python",
   "pygments_lexer": "ipython2",
   "version": "2.7.10"
  }
 },
 "nbformat": 4,
 "nbformat_minor": 0
}
